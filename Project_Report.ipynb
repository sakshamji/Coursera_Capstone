{
  "nbformat": 4,
  "nbformat_minor": 0,
  "metadata": {
    "colab": {
      "name": "Untitled3.ipynb",
      "provenance": [],
      "authorship_tag": "ABX9TyOXZFSzCN+8DN6HaAm4Vd0Z",
      "include_colab_link": true
    },
    "kernelspec": {
      "name": "python3",
      "display_name": "Python 3"
    }
  },
  "cells": [
    {
      "cell_type": "markdown",
      "metadata": {
        "id": "view-in-github",
        "colab_type": "text"
      },
      "source": [
        "<a href=\"https://colab.research.google.com/github/sakshamji/Coursera_Capstone/blob/master/Project_Report.ipynb\" target=\"_parent\"><img src=\"https://colab.research.google.com/assets/colab-badge.svg\" alt=\"Open In Colab\"/></a>"
      ]
    },
    {
      "cell_type": "markdown",
      "metadata": {
        "id": "TOOdUHoPWoWR",
        "colab_type": "text"
      },
      "source": [
        "<center> <h1><b> Project Report | The Battle of Neighborhoods : Finding Best Neighbourhood in Scarborough</b></h1></center>"
      ]
    },
    {
      "cell_type": "markdown",
      "metadata": {
        "id": "O-sMPBrlXh_n",
        "colab_type": "text"
      },
      "source": [
        "<b><h2>1. Introduction</h2></b>"
      ]
    },
    {
      "cell_type": "markdown",
      "metadata": {
        "id": "MGPzFrXgX3-I",
        "colab_type": "text"
      },
      "source": [
        "Moving to a new place is hard sometimes especially when you know little about that place so this project is about solve that problem how one can find a place like his/her previous home in a city completely unknown.The project is made to find best neighbourhood who are migrating to Scarborough by analysing all neighbourhood on the basis of connectivity,housing price,etc.\n",
        "\n",
        "The project target people who are migrating to Scarborough.To find best neighbourhood is the aim of the project features on which neighbourhood are compared are connectivity to places like cafe shop,super market,etc and price of housing and schools nearby.\n",
        "\n",
        "\n",
        "\n"
      ]
    },
    {
      "cell_type": "markdown",
      "metadata": {
        "id": "SlaA8-vQZP-C",
        "colab_type": "text"
      },
      "source": [
        "<br>\n",
        "<br>\n",
        "<h2><b>2.Data Section</b></h2>"
      ]
    },
    {
      "cell_type": "markdown",
      "metadata": {
        "id": "a60aabSeZiS5",
        "colab_type": "text"
      },
      "source": [
        "Data Link: https://en.wikipedia.org/wiki/List_of_postal_codes_of_Canada:_M\n",
        "\n",
        "Will use Scarborough dataset which we scrapped from wikipedia on Week 3. Dataset consisting of latitude and longitude, zip codes."
      ]
    },
    {
      "cell_type": "markdown",
      "metadata": {
        "id": "geJy5LQ6vEhn",
        "colab_type": "text"
      },
      "source": [
        "<b><h3>Foursquare API</h3></b>"
      ]
    },
    {
      "cell_type": "markdown",
      "metadata": {
        "id": "zsTK8iFdvHlY",
        "colab_type": "text"
      },
      "source": [
        "We will need data about different venues in different neighborhoods of that specific borough. In order to gain that information we will use \"Foursquare\" locational information. Foursquare is a location data provider with information about all manner of venues and events within an area of interest. Such information includes venue names, locations, menus and even photos. As such, the foursquare location platform will be used as the sole data source since all the stated required information can be obtained through the API.\n",
        "\n",
        "After finding the list of neighborhoods, we then connect to the Foursquare API to gather information about venues inside each and every neighborhood. For each neighborhood, we have chosen the radius to be 100 meter.\n",
        "\n",
        "The data retrieved from Foursquare contained information of venues within a specified distance of the longitude and latitude of the postcodes. The information obtained per venue as follows:\n",
        "\n",
        "1. Neighborhood\n",
        "2. Neighborhood Latitude\n",
        "3. Neighborhood Longitude\n",
        "4. Venue\n",
        "5. Name of the venue e.g. the name of a store or restaurant\n",
        "6. Venue Latitude\n",
        "7. Venue Longitude\n",
        "8. Venue Category"
      ]
    },
    {
      "cell_type": "markdown",
      "metadata": {
        "id": "4QO773pWaChH",
        "colab_type": "text"
      },
      "source": [
        "<br>\n",
        "<br>\n",
        "<h2><b>3.Methodology</b></h2>"
      ]
    },
    {
      "cell_type": "markdown",
      "metadata": {
        "id": "ej7NpXG_aPV9",
        "colab_type": "text"
      },
      "source": [
        "Using credentials of Foursquare API features of near-by places of the neighborhoods would be mined. Due to http request limitations the number of places per neighborhood parameter would reasonably be set to 100 and the radius parameter would be set to 500 and using clustering to compare the similarities of two cities, we decided to explore neighborhoods, segment them, and group them into clusters to find similar neighborhoods in a big city like New York and Toronto. To be able to do that, we need to cluster data which is a form of unsupervised machine learning: k-means clustering algorithm"
      ]
    },
    {
      "cell_type": "markdown",
      "metadata": {
        "id": "Kgs0kisPvUW8",
        "colab_type": "text"
      },
      "source": [
        "<br>\n",
        "<br>\n",
        "<h2><b>4.Results</b></h2>"
      ]
    },
    {
      "cell_type": "markdown",
      "metadata": {
        "id": "_-4Wz3_LvcZw",
        "colab_type": "text"
      },
      "source": [
        "[Click here to see initial stage](https://drive.google.com/open?id=16I4rzBGpwjXeKCv29LF_cDPkFU2ipkWu)"
      ]
    },
    {
      "cell_type": "markdown",
      "metadata": {
        "id": "DNmP2ctl01nZ",
        "colab_type": "text"
      },
      "source": [
        "[Click here to see final stage after clustering](https://drive.google.com/open?id=1xXaz2cZgZRb-mkSeK1YsZWiZt0CDCIgH)"
      ]
    },
    {
      "cell_type": "markdown",
      "metadata": {
        "id": "7huiLRORw085",
        "colab_type": "text"
      },
      "source": [
        "<br>\n",
        "<br>\n",
        "<h2><b>5.Conclusion</b></h2>"
      ]
    },
    {
      "cell_type": "markdown",
      "metadata": {
        "id": "HmUzIbayxCs4",
        "colab_type": "text"
      },
      "source": [
        "In this project, using k-means cluster algorithm neighbourhood is separated   into 10(Ten) different clusters and for 103 different lattitude and logitude from dataset, which have very-similar neighborhoods around them. Using the charts above results presented to a particular neighborhood based on average house prices  have been made.<br><h3><b>Future works:</b></h3><br>\n",
        "Other features like criminal records,school ratings can also be added and this model can be made more real life based and solve this problem more accurately."
      ]
    },
    {
      "cell_type": "markdown",
      "metadata": {
        "id": "gd7BVe_bac4c",
        "colab_type": "text"
      },
      "source": [
        "<br>\n",
        "<br>\n",
        "<h2><b>6.Libraries used</b></h2>"
      ]
    },
    {
      "cell_type": "markdown",
      "metadata": {
        "id": "N99KeKLYafwV",
        "colab_type": "text"
      },
      "source": [
        "Pandas: For creating and manipulating dataframes.\n",
        "\n",
        "Folium: Python visualization library would be used to visualize the neighborhoods cluster distribution of using interactive leaflet map.\n",
        "\n",
        "Scikit Learn: For importing k-means clustering.\n",
        "\n",
        "JSON: Library to handle JSON files.\n",
        "\n",
        "XML: To separate data from presentation and XML stores data in plain text format.\n",
        "\n",
        "Geocoder: To retrieve Location Data.\n",
        "\n",
        "Beautiful Soup and Requests: To scrap and library to handle http requests.\n",
        "\n",
        "Matplotlib: Python Plotting Module."
      ]
    },
    {
      "cell_type": "code",
      "metadata": {
        "id": "CeQuQPm2aj6P",
        "colab_type": "code",
        "colab": {}
      },
      "source": [
        ""
      ],
      "execution_count": 0,
      "outputs": []
    }
  ]
}