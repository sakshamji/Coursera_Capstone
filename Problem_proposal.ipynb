{
  "nbformat": 4,
  "nbformat_minor": 0,
  "metadata": {
    "colab": {
      "name": "Untitled3.ipynb",
      "provenance": [],
      "authorship_tag": "ABX9TyONEeC4izaTfA1s7OZPHiTv",
      "include_colab_link": true
    },
    "kernelspec": {
      "name": "python3",
      "display_name": "Python 3"
    }
  },
  "cells": [
    {
      "cell_type": "markdown",
      "metadata": {
        "id": "view-in-github",
        "colab_type": "text"
      },
      "source": [
        "<a href=\"https://colab.research.google.com/github/sakshamji/Coursera_Capstone/blob/master/Problem_proposal.ipynb\" target=\"_parent\"><img src=\"https://colab.research.google.com/assets/colab-badge.svg\" alt=\"Open In Colab\"/></a>"
      ]
    },
    {
      "cell_type": "markdown",
      "metadata": {
        "id": "TOOdUHoPWoWR",
        "colab_type": "text"
      },
      "source": [
        "<center> <h1><b> The Battle of Neighborhoods : Problem Statement</b></h1></center>"
      ]
    },
    {
      "cell_type": "markdown",
      "metadata": {
        "id": "O-sMPBrlXh_n",
        "colab_type": "text"
      },
      "source": [
        "<b><h2>1. Introduction</h2></b>"
      ]
    },
    {
      "cell_type": "markdown",
      "metadata": {
        "id": "MGPzFrXgX3-I",
        "colab_type": "text"
      },
      "source": [
        "Moving to a new place is hard sometimes especially when you know little about that place so this project is about solve that problem how one can find a place like his/her previous home in a city completely unknown.\n",
        "\n",
        "The project target people who are migrating to Scarborough.To find best neighbourhood is the aim of the project features on which neighbourhood are compared are connectivity to places like cafe shop,super market,etc and price of housing and schools nearby.\n",
        "\n",
        "\n",
        "\n"
      ]
    },
    {
      "cell_type": "markdown",
      "metadata": {
        "id": "SlaA8-vQZP-C",
        "colab_type": "text"
      },
      "source": [
        "<br>\n",
        "<br>\n",
        "<h2><b>2.Problem to solve</b></h2>"
      ]
    },
    {
      "cell_type": "markdown",
      "metadata": {
        "id": "a60aabSeZiS5",
        "colab_type": "text"
      },
      "source": [
        "The project is made to find best neighbourhood who are migrating to Scarborough by analysing all neighbourhood on the basis of connectivity,housing price,etc."
      ]
    },
    {
      "cell_type": "markdown",
      "metadata": {
        "id": "4QO773pWaChH",
        "colab_type": "text"
      },
      "source": [
        "<br>\n",
        "<br>\n",
        "<h2><b>3.Approach</b></h2>"
      ]
    },
    {
      "cell_type": "markdown",
      "metadata": {
        "id": "ej7NpXG_aPV9",
        "colab_type": "text"
      },
      "source": [
        "Using credentials of Foursquare API features of near-by places of the neighborhoods would be mined. Due to http request limitations the number of places per neighborhood parameter would reasonably be set to 100 and the radius parameter would be set to 500 and using clustering to compare the similarities of two cities, we decided to explore neighborhoods, segment them, and group them into clusters to find similar neighborhoods in a big city like New York and Toronto. To be able to do that, we need to cluster data which is a form of unsupervised machine learning: k-means clustering algorithm"
      ]
    },
    {
      "cell_type": "markdown",
      "metadata": {
        "id": "gd7BVe_bac4c",
        "colab_type": "text"
      },
      "source": [
        "<br>\n",
        "<br>\n",
        "<h2><b>4.Libraries used</b></h2>"
      ]
    },
    {
      "cell_type": "markdown",
      "metadata": {
        "id": "N99KeKLYafwV",
        "colab_type": "text"
      },
      "source": [
        "Pandas: For creating and manipulating dataframes.\n",
        "\n",
        "Folium: Python visualization library would be used to visualize the neighborhoods cluster distribution of using interactive leaflet map.\n",
        "\n",
        "Scikit Learn: For importing k-means clustering.\n",
        "\n",
        "JSON: Library to handle JSON files.\n",
        "\n",
        "XML: To separate data from presentation and XML stores data in plain text format.\n",
        "\n",
        "Geocoder: To retrieve Location Data.\n",
        "\n",
        "Beautiful Soup and Requests: To scrap and library to handle http requests.\n",
        "\n",
        "Matplotlib: Python Plotting Module."
      ]
    },
    {
      "cell_type": "code",
      "metadata": {
        "id": "CeQuQPm2aj6P",
        "colab_type": "code",
        "colab": {}
      },
      "source": [
        ""
      ],
      "execution_count": 0,
      "outputs": []
    }
  ]
}